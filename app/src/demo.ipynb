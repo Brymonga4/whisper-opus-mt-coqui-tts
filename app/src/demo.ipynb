{
 "cells": [
  {
   "cell_type": "code",
   "execution_count": 1,
   "metadata": {},
   "outputs": [
    {
     "name": "stdout",
     "output_type": "stream",
     "text": [
      "Requirement already satisfied: sentencepiece in /home/bmontes/miniconda3/envs/whisper-coqui/lib/python3.9/site-packages (0.2.0)\n"
     ]
    }
   ],
   "source": [
    "! pip install sentencepiece"
   ]
  },
  {
   "cell_type": "code",
   "execution_count": 3,
   "metadata": {},
   "outputs": [],
   "source": [
    "def read_text_file(file_path):\n",
    "        with open(file_path, 'r', encoding='utf-8') as file:\n",
    "            return file.read()"
   ]
  },
  {
   "cell_type": "code",
   "execution_count": null,
   "metadata": {},
   "outputs": [],
   "source": [
    "from transformers import pipeline\n",
    "\n",
    "translator = pipeline(\"translation\", model=\"Helsinki-NLP/opus-mt-es-en\")\n",
    "\n",
    "text = \"En un lugar de la Mancha, de cuyo nombre no quiero acordarme, no ha mucho tiempo que vivía un hidalgo de los de lanza en astillero, adarga antigua, rocín flaco y galgo corredor. Una olla de algo más vaca que carnero, salpicón las más noches, duelos y quebrantos los sábados, lantejas los viernes, algún palomino de añadidura los domingos, consumían las tres partes de su hacienda. El resto della concluían sayo de velarte, calzas de velludo para las fiestas, con sus pantuflos de lo mesmo, y los días de entresemana se honraba con su vellorí de lo más fino. Tenía en su casa una ama que pasaba de los cuarenta, y una sobrina que no llegaba a los veinte, y un mozo de campo y plaza, que así ensillaba el rocín como tomaba la podadera. \"\n",
    "\n",
    "print(translator(text))"
   ]
  },
  {
   "cell_type": "code",
   "execution_count": 9,
   "metadata": {},
   "outputs": [
    {
     "name": "stdout",
     "output_type": "stream",
     "text": [
      "[{'translation_text': 'In a place in La Mancha, whose name I do not want to remember, there has not long lived a hidalgo of the launchers in shipyard, old adarga, flaky rocin and runner greyhound.'}]\n",
      "In a place in La Mancha, whose name I do not want to remember, there has not long lived a hidalgo of the launchers in shipyard, old adarga, flaky rocin and runner greyhound.\n"
     ]
    }
   ],
   "source": [
    "from transformers import pipeline\n",
    "\n",
    "try:\n",
    "    translator = pipeline(\"translation\", model=\"Helsinki-NLP/opus-mt-es-en\")\n",
    "    text = \"En un lugar de la Mancha, de cuyo nombre no quiero acordarme, no ha mucho tiempo que vivía un hidalgo de los de lanza en astillero, adarga antigua, rocín flaco y galgo corredor.\"\n",
    "    result = translator(text) \n",
    "    print(result)\n",
    "    print(result[0]['translation_text'])\n",
    "\n",
    "except Exception as e:\n",
    "    print(\"Error durante la traducción :\", e)\n"
   ]
  },
  {
   "cell_type": "code",
   "execution_count": 10,
   "metadata": {},
   "outputs": [
    {
     "name": "stdout",
     "output_type": "stream",
     "text": [
      "[{'translation_text': 'في مكان في المانشا ، لا اريد ان اتذكر اسمه ، لم يمض وقت طويل منذ كان يعيش فيه رجل الرماح في حوض السفن ، السقوف القديمة ، الندى النحيف ، ورجل الكهف في الممر .'}]\n",
      "في مكان في المانشا ، لا اريد ان اتذكر اسمه ، لم يمض وقت طويل منذ كان يعيش فيه رجل الرماح في حوض السفن ، السقوف القديمة ، الندى النحيف ، ورجل الكهف في الممر .\n"
     ]
    }
   ],
   "source": [
    "from transformers import pipeline\n",
    "\n",
    "try:\n",
    "    translator = pipeline(\"translation\", model=\"Helsinki-NLP/opus-mt-es-ar\")\n",
    "    text = \"En un lugar de la Mancha, de cuyo nombre no quiero acordarme, no ha mucho tiempo que vivía un hidalgo de los de lanza en astillero, adarga antigua, rocín flaco y galgo corredor.\"\n",
    "    result = translator(text) \n",
    "    print(result)\n",
    "    print(result[0]['translation_text'])\n",
    "\n",
    "except Exception as e:\n",
    "    print(\"Error durante la traducción :\", e)"
   ]
  },
  {
   "cell_type": "code",
   "execution_count": null,
   "metadata": {},
   "outputs": [],
   "source": [
    "# Load model directly\n",
    "from transformers import AutoTokenizer, AutoModelForSeq2SeqLM\n",
    "\n",
    "tokenizer = AutoTokenizer.from_pretrained(\"Helsinki-NLP/opus-mt-es-en\")\n",
    "model = AutoModelForSeq2SeqLM.from_pretrained(\"Helsinki-NLP/opus-mt-es-en\")"
   ]
  },
  {
   "cell_type": "code",
   "execution_count": null,
   "metadata": {},
   "outputs": [],
   "source": [
    "import gradio as gr\n",
    "import os\n",
    "\n",
    "def process_audio(audio_data_mic_path, audio_data_file_path, target_lang=\"en\"):\n",
    "\n",
    "    if audio_data_mic_path is None or os.path.getsize(audio_data_mic_path) == 0:\n",
    "        audio_data = audio_data_file_path\n",
    "    else:\n",
    "        audio_data = audio_data_mic_path\n",
    "\n",
    "    # Transcripción del Audio\n",
    "\n",
    "    transcription = whisper_transcribe_audio(model, audio_data)\n",
    "    print(transcription)\n",
    "\n",
    "    # Traducción del audio al idioma objetivo\n",
    "    translation = translation_from_esp_to_lang(target_lang, transcription)\n",
    "\n",
    "    output_file_path = \"output.wav\"\n",
    "\n",
    "    generate_audio(translation, audio_data, target_lang, output_file_path)\n",
    "\n",
    "    return transcription, translation, output_file_path\n",
    "\n",
    "# Crear la interfaz de Gradio\n",
    "iface = gr.Interface(\n",
    "    process_audio,\n",
    "    [\n",
    "      gr.Audio(sources=\"upload\", type=\"filepath\", label=\"Archivo de audio\"),\n",
    "      gr.Audio(sources=\"microphone\", type=\"filepath\", label=\"Graba tu audio\"),\n",
    "      gr.Dropdown(\n",
    "              ['en','fr', 'de', 'it', 'ar'], label=\"Idioma a Traducir\", info=\"Info adicional\"\n",
    "      ),\n",
    "    ],\n",
    "    [\n",
    "        \"text\", \"text\", \"audio\"\n",
    "    ],\n",
    "    title=\"Audio y Transcripcion\",\n",
    "    description=\"Graba tu voz y transcribela a texto.\"\n",
    ")\n",
    "\n",
    "# Ejecutar la interfaz\n",
    "iface.launch(debug=True)\n"
   ]
  }
 ],
 "metadata": {
  "kernelspec": {
   "display_name": "whisper-coqui",
   "language": "python",
   "name": "python3"
  },
  "language_info": {
   "codemirror_mode": {
    "name": "ipython",
    "version": 3
   },
   "file_extension": ".py",
   "mimetype": "text/x-python",
   "name": "python",
   "nbconvert_exporter": "python",
   "pygments_lexer": "ipython3",
   "version": "3.9.19"
  }
 },
 "nbformat": 4,
 "nbformat_minor": 2
}
